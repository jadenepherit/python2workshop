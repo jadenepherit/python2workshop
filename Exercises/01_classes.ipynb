{
 "cells": [
  {
   "cell_type": "markdown",
   "metadata": {},
   "source": [
    "### Excercise Classes\n",
    "\n",
    "### University System\n",
    "\n",
    "The university system crashed and now you need to re-write the whole code base. First off, we need a system to save each student's information.\n",
    "\n",
    "### 1. Constructor\n",
    "\n",
    "Write a class named 'Student' that saves the following information about each student:\n",
    "\n",
    "- first name\n",
    "- second name\n",
    "- student ID\n",
    "- degree programm\n",
    "- current semester\n",
    "\n",
    "The constructor of the class needs all the above information to create a new instance of 'Student'. Make sure you type-check the parameters!\n",
    "\n",
    "#### Testing\n",
    "\n",
    "Test your constructor by creating a new student.\n",
    "\n",
    "### 2. Pretty print\n",
    "\n",
    "Write the function _ _ str _ _ that pretty-prints all the information of the student.\n",
    "\n",
    "### 3. New Semester\n",
    "\n",
    "Write a function named 'new_semester()' that updates the student's semester (+1) when it is called.\n",
    "\n",
    "#### Testing\n",
    "\n",
    "Test your function by calling it once and checking if the semester was updated."
   ]
  },
  {
   "cell_type": "code",
   "execution_count": 4,
   "metadata": {},
   "outputs": [],
   "source": [
    "## Your solution\n",
    "class Student:\n",
    "\n",
    "    # Constructor\n",
    "    def __init__(self, first_name: str, second_name: str, student_id: int, degree_programm: str, semester: int):\n",
    "        self.first_name = first_name\n",
    "        self.second_name = second_name\n",
    "        self.student_id = student_id\n",
    "        self.degree_programm = degree_programm\n",
    "        self.semester = semester\n",
    "    \n",
    "    def new_semester(self):\n",
    "        self.semester += 1\n",
    "\n",
    "    def __str__(self):\n",
    "        return \"\\n\".join([\"[STUDENT]\",\n",
    "                          \"First Name: \" + self.first_name,\n",
    "                          \"Second Name: \" + self.second_name,\n",
    "                          \"Student ID: \" + str(self.student_id),\n",
    "                          \"Degree Programm: \" + self.degree_programm,\n",
    "                          \"Semester: \" + str(self.semester)])"
   ]
  },
  {
   "cell_type": "code",
   "execution_count": 6,
   "metadata": {},
   "outputs": [
    {
     "name": "stdout",
     "output_type": "stream",
     "text": [
      "[STUDENT]\n",
      "First Name: Carla\n",
      "Second Name: Botzkow\n",
      "Student ID: 456123\n",
      "Degree Programm: Computer Science\n",
      "Semester: 4\n",
      "[STUDENT]\n",
      "First Name: Carla\n",
      "Second Name: Botzkow\n",
      "Student ID: 456123\n",
      "Degree Programm: Computer Science\n",
      "Semester: 5\n"
     ]
    }
   ],
   "source": [
    "## Testing\n",
    "\n",
    "carla = Student('Carla', \"Botzkow\", 456123, \"Computer Science\", 4)\n",
    "\n",
    "print(carla)\n",
    "\n",
    "carla.new_semester()\n",
    "\n",
    "print(carla)"
   ]
  },
  {
   "cell_type": "markdown",
   "metadata": {},
   "source": [
    "### University System\n",
    "\n",
    "### 1. List of students\n",
    "\n",
    "Now, write a class 'University' that has a list of all current students. The students are of type 'Student'.\n",
    "\n",
    "The constructor of the class takes no arguments. \n",
    "\n",
    "With a function 'new_student(Student)' a new student will be added to the system.\n",
    "\n",
    "Write the function _ _ str _ _ that returns a string with all student names.\n",
    "\n",
    "#### Testing\n",
    "\n",
    "Test your class by creating a new instance and adding three students.\n",
    "\n",
    "### 2. Degree Programm Function\n",
    "\n",
    "Write a function 'programm_students(degree_programm)' that takes a degree programm as an argument and returns a list of all students studying that programm."
   ]
  },
  {
   "cell_type": "code",
   "execution_count": 7,
   "metadata": {},
   "outputs": [
    {
     "ename": "IndentationError",
     "evalue": "expected an indented block (1654241003.py, line 3)",
     "output_type": "error",
     "traceback": [
      "\u001b[0;36m  Cell \u001b[0;32mIn[7], line 3\u001b[0;36m\u001b[0m\n\u001b[0;31m    \u001b[0m\n\u001b[0m    ^\u001b[0m\n\u001b[0;31mIndentationError\u001b[0m\u001b[0;31m:\u001b[0m expected an indented block\n"
     ]
    }
   ],
   "source": [
    "## Your solution\n",
    "class University:\n",
    "    # Constructor\n",
    "    def __init__(self):\n",
    "        self.students = list()\n",
    "\n",
    "    def new_student(self, student: Student):\n",
    "        self.students.append(student)\n"
   ]
  },
  {
   "cell_type": "code",
   "execution_count": null,
   "metadata": {},
   "outputs": [],
   "source": []
  }
 ],
 "metadata": {
  "kernelspec": {
   "display_name": "pythonIIworkshop",
   "language": "python",
   "name": "python3"
  },
  "language_info": {
   "codemirror_mode": {
    "name": "ipython",
    "version": 3
   },
   "file_extension": ".py",
   "mimetype": "text/x-python",
   "name": "python",
   "nbconvert_exporter": "python",
   "pygments_lexer": "ipython3",
   "version": "3.9.17"
  },
  "orig_nbformat": 4
 },
 "nbformat": 4,
 "nbformat_minor": 2
}
